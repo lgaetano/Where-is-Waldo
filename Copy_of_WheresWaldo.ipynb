{
  "nbformat": 4,
  "nbformat_minor": 0,
  "metadata": {
    "colab": {
      "name": "Copy of WheresWaldo.ipynb",
      "provenance": [],
      "collapsed_sections": [],
      "include_colab_link": true
    },
    "kernelspec": {
      "name": "python3",
      "display_name": "Python 3"
    },
    "accelerator": "GPU"
  },
  "cells": [
    {
      "cell_type": "markdown",
      "metadata": {
        "id": "view-in-github",
        "colab_type": "text"
      },
      "source": [
        "<a href=\"https://colab.research.google.com/github/lgaetano/Where-is-Waldo/blob/master/Copy_of_WheresWaldo.ipynb\" target=\"_parent\"><img src=\"https://colab.research.google.com/assets/colab-badge.svg\" alt=\"Open In Colab\"/></a>"
      ]
    },
    {
      "cell_type": "code",
      "metadata": {
        "colab_type": "code",
        "id": "1xJZ5glPPCRz",
        "outputId": "255d3bed-c5cb-45c2-a6c4-9d45a369cf92",
        "colab": {
          "base_uri": "https://localhost:8080/",
          "height": 241
        }
      },
      "source": [
        "import os\n",
        "import tensorflow as tf\n",
        "from tensorflow.keras import layers\n",
        "from tensorflow.keras import Model\n",
        "\n",
        "# Retreive pretrained weights from Inception Neural Network\n",
        "!wget --no-check-certificate \\\n",
        "    https://storage.googleapis.com/mledu-datasets/inception_v3_weights_tf_dim_ordering_tf_kernels_notop.h5 \\\n",
        "    -O /tmp/inception_v3_weights_tf_dim_ordering_tf_kernels_notop.h5\n",
        "  \n",
        "from tensorflow.keras.applications.inception_v3 import InceptionV3\n",
        "\n",
        "local_weights_file = '/tmp/inception_v3_weights_tf_dim_ordering_tf_kernels_notop.h5'\n",
        "\n",
        "# Instantiate Inception with desired input shape for Where's Waldo data\n",
        "pre_trained_model = InceptionV3(input_shape = (150, 150, 3), \n",
        "                                include_top = False, \n",
        "                                weights = None)\n",
        "\n",
        "pre_trained_model.load_weights(local_weights_file)\n",
        "\n",
        "# Lock Inception's pre-trained layers\n",
        "for layer in pre_trained_model.layers:\n",
        "  layer.trainable = False\n",
        "  \n",
        "# pre_trained_model.summary()\n",
        "\n",
        "last_layer = pre_trained_model.get_layer('mixed7')\n",
        "last_output = last_layer.output"
      ],
      "execution_count": 12,
      "outputs": [
        {
          "output_type": "stream",
          "text": [
            "--2019-11-28 20:18:00--  https://storage.googleapis.com/mledu-datasets/inception_v3_weights_tf_dim_ordering_tf_kernels_notop.h5\n",
            "Resolving storage.googleapis.com (storage.googleapis.com)... 108.177.119.128, 2a00:1450:4013:c01::80\n",
            "Connecting to storage.googleapis.com (storage.googleapis.com)|108.177.119.128|:443... connected.\n",
            "HTTP request sent, awaiting response... 200 OK\n",
            "Length: 87910968 (84M) [application/x-hdf]\n",
            "Saving to: ‘/tmp/inception_v3_weights_tf_dim_ordering_tf_kernels_notop.h5’\n",
            "\n",
            "\r          /tmp/ince   0%[                    ]       0  --.-KB/s               \r         /tmp/incep  44%[=======>            ]  37.06M   185MB/s               \r/tmp/inception_v3_w 100%[===================>]  83.84M   239MB/s    in 0.4s    \n",
            "\n",
            "2019-11-28 20:18:01 (239 MB/s) - ‘/tmp/inception_v3_weights_tf_dim_ordering_tf_kernels_notop.h5’ saved [87910968/87910968]\n",
            "\n",
            "last layer output shape:  (None, 7, 7, 768)\n"
          ],
          "name": "stdout"
        }
      ]
    },
    {
      "cell_type": "code",
      "metadata": {
        "id": "Dl8-vbfd6etQ",
        "colab_type": "code",
        "colab": {}
      },
      "source": [
        "# Define callback class and on_epoch_end funtion to end training when 99.9% accuracy is reached\n",
        "class myCallback(tf.keras.callbacks.Callback):\n",
        "  def on_epoch_end(self, epoch, logs={}):\n",
        "    if (logs.get('acc') > 0.995):\n",
        "      print('\\nAccuracy is greater than 99.9%. Finished!')\n",
        "      self.model.stop_training = True\n",
        "\n",
        "# Instantiate Callback class\n",
        "callbacks = myCallback()"
      ],
      "execution_count": 0,
      "outputs": []
    },
    {
      "cell_type": "code",
      "metadata": {
        "colab_type": "code",
        "id": "BMXb913pbvFg",
        "outputId": "74021df5-f980-4adf-ca0b-e6b22b904eed",
        "colab": {
          "base_uri": "https://localhost:8080/",
          "height": 89
        }
      },
      "source": [
        "from tensorflow.keras.optimizers import RMSprop\n",
        "\n",
        "# Flatten the output layer to 1 dimension\n",
        "x = layers.Flatten()(last_output)\n",
        "# Add a fully connected layer with 1,024 hidden units and ReLU activation\n",
        "x = layers.Dense(1024, activation='relu')(x)\n",
        "# Add a dropout rate of 0.2\n",
        "x = layers.Dropout(0.2)(x)                  \n",
        "# Add a final sigmoid layer for classification\n",
        "x = layers.Dense  (1, activation='sigmoid')(x)           \n",
        "\n",
        "model = Model( pre_trained_model.input, x) \n",
        "\n",
        "model.compile(optimizer = RMSprop(lr=0.0001), \n",
        "              loss = 'binary_crossentropy', \n",
        "              metrics = ['acc'])\n"
      ],
      "execution_count": 0,
      "outputs": [
        {
          "output_type": "stream",
          "text": [
            "WARNING:tensorflow:From /usr/local/lib/python3.6/dist-packages/tensorflow_core/python/ops/nn_impl.py:183: where (from tensorflow.python.ops.array_ops) is deprecated and will be removed in a future version.\n",
            "Instructions for updating:\n",
            "Use tf.where in 2.0, which has the same broadcast rule as np.where\n"
          ],
          "name": "stdout"
        }
      ]
    },
    {
      "cell_type": "code",
      "metadata": {
        "id": "roheyQM1-fc1",
        "colab_type": "code",
        "outputId": "a8016e10-9bc5-43df-fadd-2ff33029da5a",
        "colab": {
          "base_uri": "https://localhost:8080/",
          "height": 34
        }
      },
      "source": [
        "!git clone https://github.com/lgaetano/Where-s-Waldo.git"
      ],
      "execution_count": 20,
      "outputs": [
        {
          "output_type": "stream",
          "text": [
            "fatal: destination path 'Where-s-Waldo' already exists and is not an empty directory.\n"
          ],
          "name": "stdout"
        }
      ]
    },
    {
      "cell_type": "code",
      "metadata": {
        "colab_type": "code",
        "outputId": "2ee85d6a-21f1-46aa-e109-7004243e0e77",
        "id": "-3S9IXyZ5i8b",
        "colab": {
          "base_uri": "https://localhost:8080/",
          "height": 51
        }
      },
      "source": [
        "from tensorflow.keras.preprocessing.image import ImageDataGenerator\n",
        "\n",
        "import os\n",
        "import zipfile\n",
        "\n",
        "local_zip = '/content/Where-s-Waldo/Waldo_dataset.zip'\n",
        "\n",
        "zip_ref = zipfile.ZipFile(local_zip, 'r')\n",
        "zip_ref.extractall('/tmp')\n",
        "zip_ref.close()\n",
        "\n",
        "# Define our example directories and files\n",
        "base_dir = '/tmp/Waldo_dataset'\n",
        "\n",
        "train_dir = os.path.join(base_dir, 'training')\n",
        "validation_dir = os.path.join(base_dir, 'validation')\n",
        "\n",
        "train_waldo_dir = os.path.join(train_dir, 'waldo')\n",
        "train_notwaldo_dir = os.path.join(train_dir, 'notwaldo')\n",
        "validation_waldo_dir = os.path.join(validation_dir, 'waldo')\n",
        "validation_notwaldo_dir = os.path.join(validation_dir, 'notwaldo')\n",
        "\n",
        "# Add our data-augmentation parameters to ImageDataGenerator\n",
        "train_datagen = ImageDataGenerator(rescale = 1./255.,\n",
        "                                   rotation_range = 40,\n",
        "                                   width_shift_range = 0.2,\n",
        "                                   height_shift_range = 0.2,\n",
        "                                   shear_range = 0.2,\n",
        "                                   zoom_range = 0.2,\n",
        "                                   horizontal_flip = True)\n",
        "\n",
        "# Note that the validation data should not be augmented!\n",
        "test_datagen = ImageDataGenerator( rescale = 1.0/255. )\n",
        "\n",
        "# Flow training images in batches of 20 using train_datagen generator\n",
        "train_generator = train_datagen.flow_from_directory(train_dir,\n",
        "                                                    batch_size = 20,\n",
        "                                                    class_mode = 'binary', \n",
        "                                                    target_size = (150, 150))     \n",
        "\n",
        "# Flow validation images in batches of 20 using test_datagen generator\n",
        "validation_generator =  test_datagen.flow_from_directory( validation_dir,\n",
        "                                                          batch_size  = 20,\n",
        "                                                          class_mode  = 'binary', \n",
        "                                                          target_size = (150, 150))"
      ],
      "execution_count": 25,
      "outputs": [
        {
          "output_type": "stream",
          "text": [
            "Found 5652 images belonging to 2 classes.\n",
            "Found 1075 images belonging to 2 classes.\n"
          ],
          "name": "stdout"
        }
      ]
    },
    {
      "cell_type": "code",
      "metadata": {
        "colab_type": "code",
        "id": "Blhq2MAUeyGA",
        "outputId": "8a62c957-855f-4d71-85f0-d699070a6f84",
        "colab": {
          "base_uri": "https://localhost:8080/",
          "height": 1000
        }
      },
      "source": [
        "history = model.fit_generator(\n",
        "            train_generator,\n",
        "            validation_data = validation_generator,\n",
        "            steps_per_epoch = 100,\n",
        "            epochs = 50,\n",
        "            validation_steps = 50,\n",
        "            verbose = 2,\n",
        "            callbacks = [callbacks])"
      ],
      "execution_count": 26,
      "outputs": [
        {
          "output_type": "stream",
          "text": [
            "Epoch 1/50\n",
            "Epoch 1/50\n",
            "100/100 - 12s - loss: 0.1593 - acc: 0.9900 - val_loss: 0.1149 - val_acc: 0.9950\n",
            "Epoch 2/50\n",
            "Epoch 1/50\n",
            "100/100 - 11s - loss: 0.1528 - acc: 0.9865 - val_loss: 0.0890 - val_acc: 0.9950\n",
            "Epoch 3/50\n",
            "Epoch 1/50\n",
            "100/100 - 11s - loss: 0.1134 - acc: 0.9874 - val_loss: 0.0871 - val_acc: 0.9950\n",
            "Epoch 4/50\n",
            "Epoch 1/50\n",
            "100/100 - 11s - loss: 0.0783 - acc: 0.9905 - val_loss: 0.1001 - val_acc: 0.9950\n",
            "Epoch 5/50\n",
            "Epoch 1/50\n",
            "100/100 - 11s - loss: 0.1415 - acc: 0.9840 - val_loss: 0.0898 - val_acc: 0.9950\n",
            "Epoch 6/50\n",
            "Epoch 1/50\n",
            "100/100 - 11s - loss: 0.1066 - acc: 0.9900 - val_loss: 0.0904 - val_acc: 0.9950\n",
            "Epoch 7/50\n",
            "Epoch 1/50\n",
            "100/100 - 11s - loss: 0.0867 - acc: 0.9905 - val_loss: 0.0977 - val_acc: 0.9950\n",
            "Epoch 8/50\n",
            "Epoch 1/50\n",
            "100/100 - 11s - loss: 0.1011 - acc: 0.9875 - val_loss: 0.0931 - val_acc: 0.9950\n",
            "Epoch 9/50\n",
            "Epoch 1/50\n",
            "100/100 - 11s - loss: 0.1371 - acc: 0.9834 - val_loss: 0.0867 - val_acc: 0.9950\n",
            "Epoch 10/50\n",
            "Epoch 1/50\n",
            "100/100 - 11s - loss: 0.1061 - acc: 0.9870 - val_loss: 0.0906 - val_acc: 0.9950\n",
            "Epoch 11/50\n",
            "Epoch 1/50\n",
            "100/100 - 11s - loss: 0.1062 - acc: 0.9905 - val_loss: 0.0975 - val_acc: 0.9950\n",
            "Epoch 12/50\n",
            "Epoch 1/50\n",
            "100/100 - 11s - loss: 0.0885 - acc: 0.9905 - val_loss: 0.0931 - val_acc: 0.9950\n",
            "Epoch 13/50\n",
            "Epoch 1/50\n",
            "100/100 - 11s - loss: 0.1351 - acc: 0.9865 - val_loss: 0.0834 - val_acc: 0.9950\n",
            "Epoch 14/50\n",
            "Epoch 1/50\n",
            "100/100 - 11s - loss: 0.0928 - acc: 0.9869 - val_loss: 0.0853 - val_acc: 0.9950\n",
            "Epoch 15/50\n",
            "Epoch 1/50\n",
            "100/100 - 11s - loss: 0.0822 - acc: 0.9890 - val_loss: 0.0981 - val_acc: 0.9950\n",
            "Epoch 16/50\n",
            "Epoch 1/50\n",
            "100/100 - 11s - loss: 0.1144 - acc: 0.9855 - val_loss: 0.0856 - val_acc: 0.9950\n",
            "Epoch 17/50\n",
            "Epoch 1/50\n",
            "100/100 - 11s - loss: 0.0885 - acc: 0.9905 - val_loss: 0.0865 - val_acc: 0.9950\n",
            "Epoch 18/50\n",
            "Epoch 1/50\n",
            "100/100 - 11s - loss: 0.0986 - acc: 0.9870 - val_loss: 0.0786 - val_acc: 0.9950\n",
            "Epoch 19/50\n",
            "Epoch 1/50\n",
            "100/100 - 11s - loss: 0.0815 - acc: 0.9890 - val_loss: 0.0853 - val_acc: 0.9950\n",
            "Epoch 20/50\n",
            "Epoch 1/50\n",
            "100/100 - 11s - loss: 0.0822 - acc: 0.9905 - val_loss: 0.0898 - val_acc: 0.9950\n",
            "Epoch 21/50\n",
            "Epoch 1/50\n",
            "100/100 - 11s - loss: 0.0981 - acc: 0.9880 - val_loss: 0.0823 - val_acc: 0.9950\n",
            "Epoch 22/50\n",
            "Epoch 1/50\n",
            "100/100 - 11s - loss: 0.1155 - acc: 0.9860 - val_loss: 0.0764 - val_acc: 0.9950\n",
            "Epoch 23/50\n",
            "Epoch 1/50\n",
            "100/100 - 11s - loss: 0.1035 - acc: 0.9874 - val_loss: 0.0741 - val_acc: 0.9950\n",
            "Epoch 24/50\n",
            "Epoch 1/50\n",
            "100/100 - 11s - loss: 0.0926 - acc: 0.9865 - val_loss: 0.0749 - val_acc: 0.9950\n",
            "Epoch 25/50\n",
            "Epoch 1/50\n",
            "100/100 - 11s - loss: 0.0877 - acc: 0.9865 - val_loss: 0.0715 - val_acc: 0.9950\n",
            "Epoch 26/50\n",
            "Epoch 1/50\n",
            "100/100 - 11s - loss: 0.0630 - acc: 0.9910 - val_loss: 0.0743 - val_acc: 0.9950\n",
            "Epoch 27/50\n",
            "Epoch 1/50\n",
            "100/100 - 11s - loss: 0.1135 - acc: 0.9870 - val_loss: 0.0661 - val_acc: 0.9950\n",
            "Epoch 28/50\n",
            "Epoch 1/50\n",
            "100/100 - 11s - loss: 0.0746 - acc: 0.9890 - val_loss: 0.0676 - val_acc: 0.9950\n",
            "Epoch 29/50\n",
            "Epoch 1/50\n",
            "100/100 - 11s - loss: 0.0809 - acc: 0.9875 - val_loss: 0.0665 - val_acc: 0.9950\n",
            "Epoch 30/50\n",
            "Epoch 1/50\n",
            "100/100 - 11s - loss: 0.0694 - acc: 0.9890 - val_loss: 0.0708 - val_acc: 0.9950\n",
            "Epoch 31/50\n",
            "Epoch 1/50\n",
            "100/100 - 11s - loss: 0.0797 - acc: 0.9885 - val_loss: 0.0680 - val_acc: 0.9950\n",
            "Epoch 32/50\n",
            "Epoch 1/50\n",
            "100/100 - 11s - loss: 0.0895 - acc: 0.9880 - val_loss: 0.0686 - val_acc: 0.9950\n",
            "Epoch 33/50\n",
            "Epoch 1/50\n",
            "100/100 - 11s - loss: 0.0783 - acc: 0.9900 - val_loss: 0.0647 - val_acc: 0.9950\n",
            "Epoch 34/50\n",
            "Epoch 1/50\n",
            "100/100 - 11s - loss: 0.0958 - acc: 0.9865 - val_loss: 0.0588 - val_acc: 0.9950\n",
            "Epoch 35/50\n",
            "Epoch 1/50\n",
            "100/100 - 11s - loss: 0.0844 - acc: 0.9865 - val_loss: 0.0527 - val_acc: 0.9950\n",
            "Epoch 36/50\n",
            "Epoch 1/50\n",
            "100/100 - 11s - loss: 0.0690 - acc: 0.9885 - val_loss: 0.0625 - val_acc: 0.9950\n",
            "Epoch 37/50\n",
            "Epoch 1/50\n",
            "100/100 - 11s - loss: 0.0699 - acc: 0.9915 - val_loss: 0.0674 - val_acc: 0.9950\n",
            "Epoch 38/50\n",
            "Epoch 1/50\n",
            "100/100 - 11s - loss: 0.0676 - acc: 0.9915 - val_loss: 0.0598 - val_acc: 0.9950\n",
            "Epoch 39/50\n",
            "Epoch 1/50\n",
            "100/100 - 11s - loss: 0.1051 - acc: 0.9850 - val_loss: 0.0455 - val_acc: 0.9950\n",
            "Epoch 40/50\n",
            "Epoch 1/50\n",
            "100/100 - 11s - loss: 0.0798 - acc: 0.9885 - val_loss: 0.0554 - val_acc: 0.9950\n",
            "Epoch 41/50\n",
            "Epoch 1/50\n",
            "100/100 - 11s - loss: 0.0739 - acc: 0.9890 - val_loss: 0.0605 - val_acc: 0.9950\n",
            "Epoch 42/50\n",
            "Epoch 1/50\n",
            "100/100 - 11s - loss: 0.0816 - acc: 0.9880 - val_loss: 0.0558 - val_acc: 0.9950\n",
            "Epoch 43/50\n",
            "Epoch 1/50\n",
            "100/100 - 11s - loss: 0.0831 - acc: 0.9874 - val_loss: 0.0553 - val_acc: 0.9950\n",
            "Epoch 44/50\n",
            "Epoch 1/50\n",
            "100/100 - 11s - loss: 0.0970 - acc: 0.9845 - val_loss: 0.0538 - val_acc: 0.9950\n",
            "Epoch 45/50\n",
            "Epoch 1/50\n",
            "100/100 - 11s - loss: 0.0712 - acc: 0.9915 - val_loss: 0.0566 - val_acc: 0.9950\n",
            "Epoch 46/50\n",
            "Epoch 1/50\n",
            "100/100 - 11s - loss: 0.0851 - acc: 0.9880 - val_loss: 0.0520 - val_acc: 0.9950\n",
            "Epoch 47/50\n",
            "Epoch 1/50\n",
            "100/100 - 11s - loss: 0.0741 - acc: 0.9900 - val_loss: 0.0630 - val_acc: 0.9950\n",
            "Epoch 48/50\n",
            "Epoch 1/50\n",
            "100/100 - 11s - loss: 0.0802 - acc: 0.9890 - val_loss: 0.0601 - val_acc: 0.9950\n",
            "Epoch 49/50\n",
            "Epoch 1/50\n",
            "100/100 - 11s - loss: 0.1003 - acc: 0.9844 - val_loss: 0.0558 - val_acc: 0.9950\n",
            "Epoch 50/50\n",
            "Epoch 1/50\n",
            "100/100 - 11s - loss: 0.0787 - acc: 0.9915 - val_loss: 0.0552 - val_acc: 0.9950\n"
          ],
          "name": "stdout"
        }
      ]
    },
    {
      "cell_type": "code",
      "metadata": {
        "id": "C2Fp6Se9rKuL",
        "colab_type": "code",
        "outputId": "f3ad9681-d988-47f6-dc1e-9811d6be68b0",
        "colab": {
          "base_uri": "https://localhost:8080/",
          "height": 298
        }
      },
      "source": [
        "#Display training and validation accuracy\n",
        "import matplotlib.pyplot as plt\n",
        "\n",
        "acc = history.history['acc']\n",
        "val_acc = history.history['val_acc']\n",
        "loss = history.history['loss']\n",
        "val_loss = history.history['val_loss']\n",
        "\n",
        "epochs = range(len(acc))\n",
        "\n",
        "plt.plot(epochs, acc, 'r', label='Training accuracy')\n",
        "plt.plot(epochs, val_acc, 'b', label='Validation accuracy')\n",
        "plt.title('Training and validation accuracy')\n",
        "plt.legend(loc=0)\n",
        "plt.figure()\n",
        "\n",
        "\n",
        "plt.show()"
      ],
      "execution_count": 27,
      "outputs": [
        {
          "output_type": "display_data",
          "data": {
            "image/png": "[encoded data removed]",
            "text/plain": [
              "<Figure size 432x288 with 1 Axes>"
            ]
          },
          "metadata": {
            "tags": []
          }
        },
        {
          "output_type": "display_data",
          "data": {
            "text/plain": [
              "<Figure size 432x288 with 0 Axes>"
            ]
          },
          "metadata": {
            "tags": []
          }
        }
      ]
    },
    {
      "cell_type": "code",
      "metadata": {
        "id": "cSB_FClQukPu",
        "colab_type": "code",
        "outputId": "2b43e194-a5c3-44ae-915b-e09b5c318c2a",
        "colab": {
          "base_uri": "https://localhost:8080/",
          "height": 432
        }
      },
      "source": [
        "#Upload a new image and have the model classify it as Waldo? y/n\n",
        "from google.colab import files\n",
        "import numpy as np\n",
        "from keras.preprocessing import image\n",
        "\n",
        "uploaded=files.upload()\n",
        "\n",
        "for filename in uploaded.keys():\n",
        " \n",
        "  # predicting images\n",
        "  path = '/content/' + filename\n",
        "  img = image.load_img(path, target_size=(150, 150))\n",
        "  x = image.img_to_array(img)\n",
        "  x = np.expand_dims(x, axis=0)\n",
        "\n",
        "  images = np.vstack([x])\n",
        "  classes = model.predict(images, batch_size=10)\n",
        "  print(classes[0])\n",
        "  if classes[0]>0.5:\n",
        "    print(filename + \" is a picture of Waldo!\")\n",
        "  else:\n",
        "    print(filename + \" is not a picture of Waldo...\")"
      ],
      "execution_count": 28,
      "outputs": [
        {
          "output_type": "display_data",
          "data": {
            "text/html": [
              "\n",
              "     <input type=\"file\" id=\"files-32718895-cdd7-4e9e-bf23-b91f02aadaae\" name=\"files[]\" multiple disabled />\n",
              "     <output id=\"result-32718895-cdd7-4e9e-bf23-b91f02aadaae\">\n",
              "      Upload widget is only available when the cell has been executed in the\n",
              "      current browser session. Please rerun this cell to enable.\n",
              "      </output>\n",
              "      <script src=\"/nbextensions/google.colab/files.js\"></script> "
            ],
            "text/plain": [
              "<IPython.core.display.HTML object>"
            ]
          },
          "metadata": {
            "tags": []
          }
        },
        {
          "output_type": "error",
          "ename": "MessageError",
          "evalue": "ignored",
          "traceback": [
            "\u001b[0;31m---------------------------------------------------------------------------\u001b[0m",
            "\u001b[0;31mMessageError\u001b[0m                              Traceback (most recent call last)",
            "\u001b[0;32m<ipython-input-28-960f77439b2b>\u001b[0m in \u001b[0;36m<module>\u001b[0;34m()\u001b[0m\n\u001b[1;32m      3\u001b[0m \u001b[0;32mfrom\u001b[0m \u001b[0mkeras\u001b[0m\u001b[0;34m.\u001b[0m\u001b[0mpreprocessing\u001b[0m \u001b[0;32mimport\u001b[0m \u001b[0mimage\u001b[0m\u001b[0;34m\u001b[0m\u001b[0;34m\u001b[0m\u001b[0m\n\u001b[1;32m      4\u001b[0m \u001b[0;34m\u001b[0m\u001b[0m\n\u001b[0;32m----> 5\u001b[0;31m \u001b[0muploaded\u001b[0m\u001b[0;34m=\u001b[0m\u001b[0mfiles\u001b[0m\u001b[0;34m.\u001b[0m\u001b[0mupload\u001b[0m\u001b[0;34m(\u001b[0m\u001b[0;34m)\u001b[0m\u001b[0;34m\u001b[0m\u001b[0;34m\u001b[0m\u001b[0m\n\u001b[0m\u001b[1;32m      6\u001b[0m \u001b[0;34m\u001b[0m\u001b[0m\n\u001b[1;32m      7\u001b[0m \u001b[0;32mfor\u001b[0m \u001b[0mfilename\u001b[0m \u001b[0;32min\u001b[0m \u001b[0muploaded\u001b[0m\u001b[0;34m.\u001b[0m\u001b[0mkeys\u001b[0m\u001b[0;34m(\u001b[0m\u001b[0;34m)\u001b[0m\u001b[0;34m:\u001b[0m\u001b[0;34m\u001b[0m\u001b[0;34m\u001b[0m\u001b[0m\n",
            "\u001b[0;32m/usr/local/lib/python3.6/dist-packages/google/colab/files.py\u001b[0m in \u001b[0;36mupload\u001b[0;34m()\u001b[0m\n\u001b[1;32m     62\u001b[0m   result = _output.eval_js(\n\u001b[1;32m     63\u001b[0m       'google.colab._files._uploadFiles(\"{input_id}\", \"{output_id}\")'.format(\n\u001b[0;32m---> 64\u001b[0;31m           input_id=input_id, output_id=output_id))\n\u001b[0m\u001b[1;32m     65\u001b[0m   \u001b[0mfiles\u001b[0m \u001b[0;34m=\u001b[0m \u001b[0m_collections\u001b[0m\u001b[0;34m.\u001b[0m\u001b[0mdefaultdict\u001b[0m\u001b[0;34m(\u001b[0m\u001b[0m_six\u001b[0m\u001b[0;34m.\u001b[0m\u001b[0mbinary_type\u001b[0m\u001b[0;34m)\u001b[0m\u001b[0;34m\u001b[0m\u001b[0;34m\u001b[0m\u001b[0m\n\u001b[1;32m     66\u001b[0m   \u001b[0;31m# Mapping from original filename to filename as saved locally.\u001b[0m\u001b[0;34m\u001b[0m\u001b[0;34m\u001b[0m\u001b[0;34m\u001b[0m\u001b[0m\n",
            "\u001b[0;32m/usr/local/lib/python3.6/dist-packages/google/colab/output/_js.py\u001b[0m in \u001b[0;36meval_js\u001b[0;34m(script, ignore_result)\u001b[0m\n\u001b[1;32m     37\u001b[0m   \u001b[0;32mif\u001b[0m \u001b[0mignore_result\u001b[0m\u001b[0;34m:\u001b[0m\u001b[0;34m\u001b[0m\u001b[0;34m\u001b[0m\u001b[0m\n\u001b[1;32m     38\u001b[0m     \u001b[0;32mreturn\u001b[0m\u001b[0;34m\u001b[0m\u001b[0;34m\u001b[0m\u001b[0m\n\u001b[0;32m---> 39\u001b[0;31m   \u001b[0;32mreturn\u001b[0m \u001b[0m_message\u001b[0m\u001b[0;34m.\u001b[0m\u001b[0mread_reply_from_input\u001b[0m\u001b[0;34m(\u001b[0m\u001b[0mrequest_id\u001b[0m\u001b[0;34m)\u001b[0m\u001b[0;34m\u001b[0m\u001b[0;34m\u001b[0m\u001b[0m\n\u001b[0m\u001b[1;32m     40\u001b[0m \u001b[0;34m\u001b[0m\u001b[0m\n\u001b[1;32m     41\u001b[0m \u001b[0;34m\u001b[0m\u001b[0m\n",
            "\u001b[0;32m/usr/local/lib/python3.6/dist-packages/google/colab/_message.py\u001b[0m in \u001b[0;36mread_reply_from_input\u001b[0;34m(message_id, timeout_sec)\u001b[0m\n\u001b[1;32m    104\u001b[0m         reply.get('colab_msg_id') == message_id):\n\u001b[1;32m    105\u001b[0m       \u001b[0;32mif\u001b[0m \u001b[0;34m'error'\u001b[0m \u001b[0;32min\u001b[0m \u001b[0mreply\u001b[0m\u001b[0;34m:\u001b[0m\u001b[0;34m\u001b[0m\u001b[0;34m\u001b[0m\u001b[0m\n\u001b[0;32m--> 106\u001b[0;31m         \u001b[0;32mraise\u001b[0m \u001b[0mMessageError\u001b[0m\u001b[0;34m(\u001b[0m\u001b[0mreply\u001b[0m\u001b[0;34m[\u001b[0m\u001b[0;34m'error'\u001b[0m\u001b[0;34m]\u001b[0m\u001b[0;34m)\u001b[0m\u001b[0;34m\u001b[0m\u001b[0;34m\u001b[0m\u001b[0m\n\u001b[0m\u001b[1;32m    107\u001b[0m       \u001b[0;32mreturn\u001b[0m \u001b[0mreply\u001b[0m\u001b[0;34m.\u001b[0m\u001b[0mget\u001b[0m\u001b[0;34m(\u001b[0m\u001b[0;34m'data'\u001b[0m\u001b[0;34m,\u001b[0m \u001b[0;32mNone\u001b[0m\u001b[0;34m)\u001b[0m\u001b[0;34m\u001b[0m\u001b[0;34m\u001b[0m\u001b[0m\n\u001b[1;32m    108\u001b[0m \u001b[0;34m\u001b[0m\u001b[0m\n",
            "\u001b[0;31mMessageError\u001b[0m: TypeError: Cannot read property '_uploadFiles' of undefined"
          ]
        }
      ]
    },
    {
      "cell_type": "code",
      "metadata": {
        "id": "SzgijCHt4Gvz",
        "colab_type": "code",
        "colab": {}
      },
      "source": [
        "# Display the dataset to provide a clue to results?\n",
        "%matplotlib inline\n",
        "\n",
        "import matplotlib.image as mpimg\n",
        "import matplotlib.pyplot as plt\n",
        "\n",
        "# Parameters for our graph; we'll output images in a 4x4 configuration\n",
        "nrows = 4\n",
        "ncols = 4\n",
        "\n",
        "pic_index = 0 # Index for iterating over images\n",
        "\n",
        "# Set up matplotlib fig, and size it to fit 4x4 pics\n",
        "fig = plt.gcf()\n",
        "fig.set_size_inches(ncols*4, nrows*4)\n",
        "\n",
        "pic_index+=8\n",
        "\n",
        "train_waldo_fnames = os.listdir(train_waldo_dir)\n",
        "train_notwaldo_fnames = os.listdir(train_notwaldo_dir)\n",
        "\n",
        "next_waldo_picture = [os.path.join(train_waldo_dir, fname) \n",
        "                for fname in train_waldo_fnames[ pic_index-8:pic_index] \n",
        "               ]\n",
        "\n",
        "next_notwaldo_picture = [os.path.join(train_notwaldo_dir, fname) \n",
        "                for fname in train_notwaldo_fnames[ pic_index-8:pic_index]\n",
        "               ]\n",
        "\n",
        "for i, img_path in enumerate(next_waldo_picture + next_notwaldo_picture):\n",
        "  # Set up subplot; subplot indices start at 1\n",
        "  sp = plt.subplot(nrows, ncols, i + 1)\n",
        "  sp.axis('Off') # Don't show axes (or gridlines)\n",
        "\n",
        "  img = mpimg.imread(img_path)\n",
        "  plt.imshow(img)\n",
        "\n",
        "plt.show()"
      ],
      "execution_count": 0,
      "outputs": []
    }
  ]
}